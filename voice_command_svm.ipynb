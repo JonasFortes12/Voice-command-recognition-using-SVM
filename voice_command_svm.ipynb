{
 "cells": [
  {
   "cell_type": "markdown",
   "metadata": {},
   "source": [
    "# AP5 - Pattern Recognition\n",
    "Train a Support Vector Machine (SVM) classifier to recognize 'Call', 'Open' and 'Close' voice commands.\n",
    "\n",
    "> Name: Jonas Carvalho Fortes\n",
    "\n",
    "> Mat: 494513"
   ]
  },
  {
   "cell_type": "markdown",
   "metadata": {},
   "source": [
    "## Importing Libraries"
   ]
  },
  {
   "cell_type": "code",
   "execution_count": 44,
   "metadata": {},
   "outputs": [],
   "source": [
    "import os\n",
    "import numpy as np\n",
    "from scipy.io import savemat\n",
    "# install also ffmpeg in the system (https://ffmpeg.org/download.html) for extracting the signal from the audio files.\n",
    "import ffmpeg"
   ]
  },
  {
   "cell_type": "markdown",
   "metadata": {},
   "source": [
    "## Data preparation"
   ]
  },
  {
   "cell_type": "code",
   "execution_count": 45,
   "metadata": {},
   "outputs": [],
   "source": [
    "def extract_audio_signal(file_path, max_length):\n",
    "    \"\"\"\n",
    "    Extracts the audio signal from a file and returns a numpy array of the signal\n",
    "    with a specified maximum length.\n",
    "    \n",
    "    Parameters:\n",
    "        file_path (str): The path to the audio file.\n",
    "        max_length (int): The maximum length of the signal in samples.\n",
    "        \n",
    "    Returns:\n",
    "        np.ndarray: A numpy array containing the audio signal, padded or truncated to max_length.\n",
    "    \"\"\"\n",
    "    try:\n",
    "        # Use ffmpeg to extract the audio and convert to wav format in memory\n",
    "        out, _ = (\n",
    "            ffmpeg\n",
    "            .input(file_path)\n",
    "            .output('pipe:', format='wav')\n",
    "            .run(capture_stdout=True, capture_stderr=True)\n",
    "        )\n",
    "\n",
    "        # Convert the audio signal to a numpy array (assuming 16-bit PCM)\n",
    "        signal = np.frombuffer(out, dtype=np.int16)\n",
    "\n",
    "        # If stereo, average the two channels\n",
    "        if signal.ndim == 2:\n",
    "            signal = signal.mean(axis=1)\n",
    "\n",
    "        # Adjust the signal to match the max_length\n",
    "        if len(signal) > max_length:\n",
    "            signal = signal[:max_length]  # Truncate the signal if longer\n",
    "        else:\n",
    "            signal = np.pad(signal, (0, max_length - len(signal)), 'constant')  # Pad with zeros if shorter\n",
    "\n",
    "        return signal\n",
    "\n",
    "    except ffmpeg.Error as e:\n",
    "        print(f\"Error extracting audio signal from {file_path}: {e.stderr.decode()}\")\n",
    "        return None"
   ]
  },
  {
   "cell_type": "code",
   "execution_count": 46,
   "metadata": {},
   "outputs": [],
   "source": [
    "def create_audio_dataset(base_path, class_dirs, max_length):\n",
    "    \"\"\"\n",
    "    Cria um dataset de sinais de áudio a partir de pastas organizadas por classes.\n",
    "    \n",
    "    Parameters:\n",
    "        base_path (str): Caminho para o diretório base que contém as pastas de classes.\n",
    "        class_dirs (list): Lista com os nomes das pastas que representam as classes de áudio.\n",
    "        max_length (int): O tamanho máximo do sinal de áudio (em amostras).\n",
    "\n",
    "    Returns:\n",
    "        np.ndarray: Um array 2D de dimensões (45, max_length) contendo os sinais de áudio.\n",
    "        np.ndarray: Um array 1D de dimensões (45,) contendo os rótulos das classes.\n",
    "    \"\"\"\n",
    "    dataset = []\n",
    "    labels = []\n",
    "    \n",
    "    for label, class_dir in enumerate(class_dirs):\n",
    "        class_path = os.path.join(base_path, class_dir)\n",
    "        audio_files = sorted(os.listdir(class_path))  # Organiza os arquivos para garantir ordem consistente\n",
    "        \n",
    "        for audio_file in audio_files:\n",
    "            audio_path = os.path.join(class_path, audio_file)\n",
    "            print(f\"Extracting audio signal from {audio_path}...\")\n",
    "            # Extrai o sinal de áudio usando a função extract_audio_signal\n",
    "            signal = extract_audio_signal(audio_path, max_length)\n",
    "            \n",
    "            if signal is not None:\n",
    "                dataset.append(signal)\n",
    "                labels.append(label)  # Adiciona o rótulo correspondente à classe\n",
    "    \n",
    "    # Converte a lista para numpy array\n",
    "    dataset = np.array(dataset)\n",
    "    labels = np.array(labels)\n",
    "    \n",
    "    return dataset, labels\n",
    "\n"
   ]
  },
  {
   "cell_type": "code",
   "execution_count": 56,
   "metadata": {},
   "outputs": [
    {
     "name": "stdout",
     "output_type": "stream",
     "text": [
      "Extracting audio signal from ./data/audios\\abrir\\abrir 01.m4a...\n",
      "Extracting audio signal from ./data/audios\\abrir\\abrir 02.m4a...\n",
      "Extracting audio signal from ./data/audios\\abrir\\abrir 03.m4a...\n",
      "Extracting audio signal from ./data/audios\\abrir\\abrir 04.m4a...\n",
      "Extracting audio signal from ./data/audios\\abrir\\abrir 05​.m4a...\n",
      "Extracting audio signal from ./data/audios\\abrir\\abrir 06.m4a...\n",
      "Extracting audio signal from ./data/audios\\abrir\\abrir 07.m4a...\n",
      "Extracting audio signal from ./data/audios\\abrir\\abrir 08.m4a...\n",
      "Extracting audio signal from ./data/audios\\abrir\\abrir 09.m4a...\n",
      "Extracting audio signal from ./data/audios\\abrir\\abrir 10.m4a...\n",
      "Extracting audio signal from ./data/audios\\abrir\\abrir 11.m4a...\n",
      "Extracting audio signal from ./data/audios\\abrir\\abrir 12.m4a...\n",
      "Extracting audio signal from ./data/audios\\abrir\\abrir 13.m4a...\n",
      "Extracting audio signal from ./data/audios\\abrir\\abrir 14.m4a...\n",
      "Extracting audio signal from ./data/audios\\abrir\\abrir 15.m4a...\n",
      "Extracting audio signal from ./data/audios\\fechar\\fechar 01.m4a...\n",
      "Extracting audio signal from ./data/audios\\fechar\\fechar 02.m4a...\n",
      "Extracting audio signal from ./data/audios\\fechar\\fechar 03.m4a...\n",
      "Extracting audio signal from ./data/audios\\fechar\\fechar 04.m4a...\n",
      "Extracting audio signal from ./data/audios\\fechar\\fechar 05.m4a...\n",
      "Extracting audio signal from ./data/audios\\fechar\\fechar 06.m4a...\n",
      "Extracting audio signal from ./data/audios\\fechar\\fechar 07.m4a...\n",
      "Extracting audio signal from ./data/audios\\fechar\\fechar 08.m4a...\n",
      "Extracting audio signal from ./data/audios\\fechar\\fechar 09.m4a...\n",
      "Extracting audio signal from ./data/audios\\fechar\\fechar 10.m4a...\n",
      "Extracting audio signal from ./data/audios\\fechar\\fechar 11.m4a...\n",
      "Extracting audio signal from ./data/audios\\fechar\\fechar 12​.m4a...\n",
      "Extracting audio signal from ./data/audios\\fechar\\fechar 13.m4a...\n",
      "Extracting audio signal from ./data/audios\\fechar\\fechar 14.m4a...\n",
      "Extracting audio signal from ./data/audios\\fechar\\fechar 15.m4a...\n",
      "Extracting audio signal from ./data/audios\\ligar\\ligar 01.m4a...\n",
      "Extracting audio signal from ./data/audios\\ligar\\ligar 02​.m4a...\n",
      "Extracting audio signal from ./data/audios\\ligar\\ligar 03.m4a...\n",
      "Extracting audio signal from ./data/audios\\ligar\\ligar 04.m4a...\n",
      "Extracting audio signal from ./data/audios\\ligar\\ligar 05.m4a...\n",
      "Extracting audio signal from ./data/audios\\ligar\\ligar 06.m4a...\n",
      "Extracting audio signal from ./data/audios\\ligar\\ligar 07.m4a...\n",
      "Extracting audio signal from ./data/audios\\ligar\\ligar 08.m4a...\n",
      "Extracting audio signal from ./data/audios\\ligar\\ligar 09.m4a...\n",
      "Extracting audio signal from ./data/audios\\ligar\\ligar 10.m4a...\n",
      "Extracting audio signal from ./data/audios\\ligar\\ligar 11.m4a...\n",
      "Extracting audio signal from ./data/audios\\ligar\\ligar 12.m4a...\n",
      "Extracting audio signal from ./data/audios\\ligar\\ligar 13.m4a...\n",
      "Extracting audio signal from ./data/audios\\ligar\\ligar 14.m4a...\n",
      "Extracting audio signal from ./data/audios\\ligar\\ligar 15.m4a...\n",
      "Dataset shape: (45, 200000)\n",
      "Labels shape: (45,)\n"
     ]
    }
   ],
   "source": [
    "# Exemplo de uso:\n",
    "base_path = './data/audios'  # Diretório base onde estão as pastas\n",
    "class_dirs = ['abrir', 'fechar', 'ligar']  # Pastas com as classes de áudio\n",
    "max_length = 200000  # Define o tamanho máximo do sinal de áudio\n",
    "\n",
    "# Criar o dataset\n",
    "dataset, labels = create_audio_dataset(base_path, class_dirs, max_length)\n",
    "\n",
    "print(f\"Dataset shape: {dataset.shape}\")  # Deve ser (45, max_length)\n",
    "print(f\"Labels shape: {labels.shape}\")    # Deve ser (45,)"
   ]
  },
  {
   "cell_type": "code",
   "execution_count": 58,
   "metadata": {},
   "outputs": [
    {
     "data": {
      "text/plain": [
       "array([[18770, 17990,    -1, ...,     0,     0,     0],\n",
       "       [18770, 17990,    -1, ...,  -140,  -128,  -138],\n",
       "       [18770, 17990,    -1, ...,     0,     0,     0],\n",
       "       ...,\n",
       "       [18770, 17990,    -1, ...,     0,     0,     0],\n",
       "       [18770, 17990,    -1, ...,     0,     0,     0],\n",
       "       [18770, 17990,    -1, ...,     0,     0,     0]], dtype=int16)"
      ]
     },
     "execution_count": 58,
     "metadata": {},
     "output_type": "execute_result"
    }
   ],
   "source": [
    "dataset"
   ]
  }
 ],
 "metadata": {
  "kernelspec": {
   "display_name": "voicecommandrecsvm",
   "language": "python",
   "name": "python3"
  },
  "language_info": {
   "codemirror_mode": {
    "name": "ipython",
    "version": 3
   },
   "file_extension": ".py",
   "mimetype": "text/x-python",
   "name": "python",
   "nbconvert_exporter": "python",
   "pygments_lexer": "ipython3",
   "version": "3.12.4"
  }
 },
 "nbformat": 4,
 "nbformat_minor": 2
}
